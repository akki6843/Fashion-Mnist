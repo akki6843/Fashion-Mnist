{
 "cells": [
  {
   "cell_type": "code",
   "execution_count": 1,
   "metadata": {
    "scrolled": true
   },
   "outputs": [
    {
     "name": "stderr",
     "output_type": "stream",
     "text": [
      "Using TensorFlow backend.\n"
     ]
    }
   ],
   "source": [
    "import numpy as np\n",
    "import cv2\n",
    "import keras\n",
    "from keras.datasets import fashion_mnist \n",
    "from keras.models import Sequential\n",
    "from keras.layers import Dense, Dropout, Flatten, BatchNormalization\n",
    "from keras.layers import Conv2D, MaxPooling2D\n",
    "from keras.optimizers import SGD, Adam\n",
    "from keras.utils import to_categorical\n",
    "from matplotlib import pyplot as plt"
   ]
  },
  {
   "cell_type": "code",
   "execution_count": 2,
   "metadata": {},
   "outputs": [],
   "source": [
    "(X_train, Y_train), (X_test, Y_test) = fashion_mnist.load_data()"
   ]
  },
  {
   "cell_type": "code",
   "execution_count": 3,
   "metadata": {},
   "outputs": [
    {
     "name": "stdout",
     "output_type": "stream",
     "text": [
      "(60000,)\n"
     ]
    }
   ],
   "source": [
    "print((Y_train.shape))"
   ]
  },
  {
   "cell_type": "code",
   "execution_count": 4,
   "metadata": {},
   "outputs": [
    {
     "name": "stdout",
     "output_type": "stream",
     "text": [
      "60000\n",
      "(60000, 10)\n"
     ]
    }
   ],
   "source": [
    "print(X_train.shape[0])\n",
    "img_rows, img_cols = 28, 28\n",
    "X_train = X_train.reshape(X_train.shape[0], img_rows, img_cols, 1)\n",
    "X_test = X_test.reshape(X_test.shape[0], img_rows, img_cols, 1)\n",
    "input_shape = (img_rows, img_cols, 1)\n",
    "\n",
    "X_train = X_train.astype('float32')\n",
    "X_test = X_test.astype('float32')\n",
    "X_train /= 255\n",
    "X_test /= 255\n",
    "\n",
    "Y_train = to_categorical(np.array(Y_train))\n",
    "Y_test = to_categorical(np.array(Y_test))\n",
    "print((Y_train.shape))\n"
   ]
  },
  {
   "cell_type": "code",
   "execution_count": 85,
   "metadata": {},
   "outputs": [],
   "source": [
    "img_rows, img_cols = 28, 28\n",
    "input_shape = (img_rows, img_cols, 1)\n",
    "def create_model():\n",
    "    model = Sequential()\n",
    "    \n",
    "    model.add(Conv2D(32, kernel_size=(3, 3), activation='relu', input_shape=input_shape))\n",
    "    model.add(Conv2D(32, (3, 3), activation='relu'))\n",
    "    model.add(MaxPooling2D(pool_size=(2, 2)))\n",
    "    model.add(Dropout(0.25))\n",
    "    \n",
    "    model.add(Conv2D(64, (3, 3), activation='relu'))\n",
    "    model.add(Conv2D(64, (3, 3), activation='relu'))\n",
    "    model.add(BatchNormalization(axis=1, momentum=0.99, epsilon=0.001))\n",
    "    model.add(Dropout(0.25))\n",
    "    \n",
    "    model.add(Conv2D(64, (3, 3), activation='relu'))\n",
    "    model.add(Conv2D(64, (3, 3), activation='relu'))\n",
    "    model.add(BatchNormalization(axis=1, momentum=0.99, epsilon=0.001))\n",
    "    model.add(MaxPooling2D(pool_size=(2, 2)))\n",
    "    model.add(Dropout(0.25))\n",
    "\n",
    "    model.add(Flatten())\n",
    "    model.add(Dense(2500, activation='relu'))\n",
    "    model.add(Dense(250, activation='relu'))\n",
    "    model.add(BatchNormalization(axis=-1, momentum=0.99, epsilon=0.001))\n",
    "    model.add(Dropout(0.5))\n",
    "    model.add(Dense(10, activation='softmax'))\n",
    "    return model\n",
    "\n"
   ]
  },
  {
   "cell_type": "code",
   "execution_count": 86,
   "metadata": {
    "scrolled": true
   },
   "outputs": [
    {
     "name": "stdout",
     "output_type": "stream",
     "text": [
      "_________________________________________________________________\n",
      "Layer (type)                 Output Shape              Param #   \n",
      "=================================================================\n",
      "conv2d_409 (Conv2D)          (None, 26, 26, 32)        320       \n",
      "_________________________________________________________________\n",
      "conv2d_410 (Conv2D)          (None, 24, 24, 32)        9248      \n",
      "_________________________________________________________________\n",
      "max_pooling2d_137 (MaxPoolin (None, 12, 12, 32)        0         \n",
      "_________________________________________________________________\n",
      "dropout_273 (Dropout)        (None, 12, 12, 32)        0         \n",
      "_________________________________________________________________\n",
      "conv2d_411 (Conv2D)          (None, 10, 10, 64)        18496     \n",
      "_________________________________________________________________\n",
      "conv2d_412 (Conv2D)          (None, 8, 8, 64)          36928     \n",
      "_________________________________________________________________\n",
      "batch_normalization_85 (Batc (None, 8, 8, 64)          32        \n",
      "_________________________________________________________________\n",
      "dropout_274 (Dropout)        (None, 8, 8, 64)          0         \n",
      "_________________________________________________________________\n",
      "conv2d_413 (Conv2D)          (None, 6, 6, 64)          36928     \n",
      "_________________________________________________________________\n",
      "conv2d_414 (Conv2D)          (None, 4, 4, 64)          36928     \n",
      "_________________________________________________________________\n",
      "batch_normalization_86 (Batc (None, 4, 4, 64)          16        \n",
      "_________________________________________________________________\n",
      "max_pooling2d_138 (MaxPoolin (None, 2, 2, 64)          0         \n",
      "_________________________________________________________________\n",
      "dropout_275 (Dropout)        (None, 2, 2, 64)          0         \n",
      "_________________________________________________________________\n",
      "flatten_69 (Flatten)         (None, 256)               0         \n",
      "_________________________________________________________________\n",
      "dense_137 (Dense)            (None, 2500)              642500    \n",
      "_________________________________________________________________\n",
      "dense_138 (Dense)            (None, 250)               625250    \n",
      "_________________________________________________________________\n",
      "batch_normalization_87 (Batc (None, 250)               1000      \n",
      "_________________________________________________________________\n",
      "dropout_276 (Dropout)        (None, 250)               0         \n",
      "_________________________________________________________________\n",
      "dense_139 (Dense)            (None, 10)                2510      \n",
      "=================================================================\n",
      "Total params: 1,410,156\n",
      "Trainable params: 1,409,632\n",
      "Non-trainable params: 524\n",
      "_________________________________________________________________\n"
     ]
    }
   ],
   "source": [
    "model = create_model()\n",
    "model.summary()"
   ]
  },
  {
   "cell_type": "code",
   "execution_count": 118,
   "metadata": {
    "scrolled": true
   },
   "outputs": [
    {
     "name": "stdout",
     "output_type": "stream",
     "text": [
      "Train on 42000 samples, validate on 18000 samples\n",
      "Epoch 1/50\n",
      "42000/42000 [==============================] - 12s 282us/step - loss: 0.7443 - acc: 0.7305 - val_loss: 0.4738 - val_acc: 0.8273\n",
      "Epoch 2/50\n",
      "42000/42000 [==============================] - 8s 198us/step - loss: 0.4332 - acc: 0.8430 - val_loss: 0.3666 - val_acc: 0.8647\n",
      "Epoch 3/50\n",
      "42000/42000 [==============================] - 8s 197us/step - loss: 0.3580 - acc: 0.8714 - val_loss: 0.3031 - val_acc: 0.8887\n",
      "Epoch 4/50\n",
      "42000/42000 [==============================] - 8s 198us/step - loss: 0.3232 - acc: 0.8841 - val_loss: 0.2856 - val_acc: 0.8955\n",
      "Epoch 5/50\n",
      "42000/42000 [==============================] - 8s 197us/step - loss: 0.2965 - acc: 0.8946 - val_loss: 0.2949 - val_acc: 0.8918\n",
      "Epoch 6/50\n",
      "42000/42000 [==============================] - 8s 197us/step - loss: 0.2850 - acc: 0.8971 - val_loss: 0.2805 - val_acc: 0.8979\n",
      "Epoch 7/50\n",
      "42000/42000 [==============================] - 8s 198us/step - loss: 0.2642 - acc: 0.9042 - val_loss: 0.2843 - val_acc: 0.8971\n",
      "Epoch 8/50\n",
      "42000/42000 [==============================] - 8s 198us/step - loss: 0.2550 - acc: 0.9077 - val_loss: 0.2357 - val_acc: 0.9147\n",
      "Epoch 9/50\n",
      "42000/42000 [==============================] - 8s 198us/step - loss: 0.2412 - acc: 0.9119 - val_loss: 0.2348 - val_acc: 0.9148\n",
      "Epoch 10/50\n",
      "42000/42000 [==============================] - 8s 197us/step - loss: 0.2325 - acc: 0.9167 - val_loss: 0.2385 - val_acc: 0.9161\n",
      "Epoch 11/50\n",
      "42000/42000 [==============================] - 8s 198us/step - loss: 0.2229 - acc: 0.9198 - val_loss: 0.2213 - val_acc: 0.9219\n",
      "Epoch 12/50\n",
      "42000/42000 [==============================] - 8s 198us/step - loss: 0.2156 - acc: 0.9229 - val_loss: 0.2172 - val_acc: 0.9208\n",
      "Epoch 13/50\n",
      "42000/42000 [==============================] - 8s 197us/step - loss: 0.2078 - acc: 0.9235 - val_loss: 0.2278 - val_acc: 0.9191\n",
      "Epoch 14/50\n",
      "42000/42000 [==============================] - 8s 197us/step - loss: 0.1999 - acc: 0.9264 - val_loss: 0.2177 - val_acc: 0.9220\n",
      "Epoch 15/50\n",
      "42000/42000 [==============================] - 8s 199us/step - loss: 0.1933 - acc: 0.9295 - val_loss: 0.2222 - val_acc: 0.9239\n",
      "Epoch 16/50\n",
      "42000/42000 [==============================] - 8s 198us/step - loss: 0.1891 - acc: 0.9307 - val_loss: 0.2203 - val_acc: 0.9236\n",
      "Epoch 17/50\n",
      "42000/42000 [==============================] - 8s 198us/step - loss: 0.1822 - acc: 0.9323 - val_loss: 0.2121 - val_acc: 0.9266\n",
      "Epoch 18/50\n",
      "42000/42000 [==============================] - 8s 198us/step - loss: 0.1757 - acc: 0.9362 - val_loss: 0.2182 - val_acc: 0.9228\n",
      "Epoch 19/50\n",
      "42000/42000 [==============================] - 8s 197us/step - loss: 0.1687 - acc: 0.9380 - val_loss: 0.2195 - val_acc: 0.9243\n",
      "Epoch 20/50\n",
      "42000/42000 [==============================] - 8s 199us/step - loss: 0.1614 - acc: 0.9392 - val_loss: 0.2200 - val_acc: 0.9243\n",
      "Epoch 21/50\n",
      "42000/42000 [==============================] - 8s 198us/step - loss: 0.1610 - acc: 0.9394 - val_loss: 0.2163 - val_acc: 0.9249\n",
      "Epoch 22/50\n",
      "42000/42000 [==============================] - 8s 199us/step - loss: 0.1562 - acc: 0.9426 - val_loss: 0.2140 - val_acc: 0.9272\n",
      "Epoch 23/50\n",
      "42000/42000 [==============================] - 8s 198us/step - loss: 0.1495 - acc: 0.9441 - val_loss: 0.2215 - val_acc: 0.9250\n",
      "Epoch 24/50\n",
      "42000/42000 [==============================] - 8s 198us/step - loss: 0.1440 - acc: 0.9472 - val_loss: 0.2183 - val_acc: 0.9259\n",
      "Epoch 25/50\n",
      "42000/42000 [==============================] - 8s 198us/step - loss: 0.1385 - acc: 0.9490 - val_loss: 0.2143 - val_acc: 0.9289\n",
      "Epoch 26/50\n",
      "42000/42000 [==============================] - 8s 198us/step - loss: 0.1383 - acc: 0.9485 - val_loss: 0.2128 - val_acc: 0.9289\n",
      "Epoch 27/50\n",
      "42000/42000 [==============================] - 8s 198us/step - loss: 0.1352 - acc: 0.9504 - val_loss: 0.2303 - val_acc: 0.9233\n",
      "Epoch 28/50\n",
      "42000/42000 [==============================] - 8s 197us/step - loss: 0.1332 - acc: 0.9510 - val_loss: 0.2111 - val_acc: 0.9291\n",
      "Epoch 29/50\n",
      "42000/42000 [==============================] - 8s 199us/step - loss: 0.1255 - acc: 0.9531 - val_loss: 0.2216 - val_acc: 0.9287\n",
      "Epoch 30/50\n",
      "42000/42000 [==============================] - 8s 198us/step - loss: 0.1243 - acc: 0.9552 - val_loss: 0.2248 - val_acc: 0.9269\n",
      "Epoch 31/50\n",
      "42000/42000 [==============================] - 8s 198us/step - loss: 0.1248 - acc: 0.9546 - val_loss: 0.2192 - val_acc: 0.9271\n",
      "Epoch 32/50\n",
      "42000/42000 [==============================] - 8s 198us/step - loss: 0.1157 - acc: 0.9565 - val_loss: 0.2258 - val_acc: 0.9273\n",
      "Epoch 33/50\n",
      "42000/42000 [==============================] - 8s 198us/step - loss: 0.1171 - acc: 0.9574 - val_loss: 0.2296 - val_acc: 0.9258\n",
      "Epoch 34/50\n",
      "42000/42000 [==============================] - 8s 198us/step - loss: 0.1134 - acc: 0.9582 - val_loss: 0.2194 - val_acc: 0.9288\n",
      "Epoch 35/50\n",
      "42000/42000 [==============================] - 8s 198us/step - loss: 0.1094 - acc: 0.9587 - val_loss: 0.2325 - val_acc: 0.9264\n",
      "Epoch 36/50\n",
      "42000/42000 [==============================] - 8s 199us/step - loss: 0.1063 - acc: 0.9598 - val_loss: 0.2317 - val_acc: 0.9275\n",
      "Epoch 37/50\n",
      "42000/42000 [==============================] - 8s 198us/step - loss: 0.1066 - acc: 0.9604 - val_loss: 0.2236 - val_acc: 0.9295\n",
      "Epoch 38/50\n",
      "42000/42000 [==============================] - 8s 198us/step - loss: 0.1045 - acc: 0.9601 - val_loss: 0.2311 - val_acc: 0.9272\n",
      "Epoch 39/50\n",
      "42000/42000 [==============================] - 8s 198us/step - loss: 0.1009 - acc: 0.9633 - val_loss: 0.2352 - val_acc: 0.9263\n",
      "Epoch 40/50\n",
      "42000/42000 [==============================] - 8s 198us/step - loss: 0.0972 - acc: 0.9635 - val_loss: 0.2300 - val_acc: 0.9268\n",
      "Epoch 41/50\n",
      "42000/42000 [==============================] - 8s 198us/step - loss: 0.0949 - acc: 0.9646 - val_loss: 0.2315 - val_acc: 0.9287\n",
      "Epoch 42/50\n",
      "42000/42000 [==============================] - 8s 197us/step - loss: 0.0955 - acc: 0.9644 - val_loss: 0.2492 - val_acc: 0.9299\n",
      "Epoch 43/50\n",
      "42000/42000 [==============================] - 8s 198us/step - loss: 0.0952 - acc: 0.9648 - val_loss: 0.2333 - val_acc: 0.9292\n",
      "Epoch 44/50\n",
      "42000/42000 [==============================] - 8s 199us/step - loss: 0.0898 - acc: 0.9661 - val_loss: 0.2468 - val_acc: 0.9280\n",
      "Epoch 45/50\n",
      "42000/42000 [==============================] - 8s 198us/step - loss: 0.0908 - acc: 0.9665 - val_loss: 0.2343 - val_acc: 0.9294\n",
      "Epoch 46/50\n",
      "42000/42000 [==============================] - 8s 197us/step - loss: 0.0877 - acc: 0.9672 - val_loss: 0.2417 - val_acc: 0.9317\n",
      "Epoch 47/50\n",
      "42000/42000 [==============================] - 8s 198us/step - loss: 0.0882 - acc: 0.9673 - val_loss: 0.2349 - val_acc: 0.9289\n",
      "Epoch 48/50\n",
      "42000/42000 [==============================] - 8s 198us/step - loss: 0.0824 - acc: 0.9689 - val_loss: 0.2499 - val_acc: 0.9302\n",
      "Epoch 49/50\n",
      "42000/42000 [==============================] - 8s 198us/step - loss: 0.0824 - acc: 0.9701 - val_loss: 0.2383 - val_acc: 0.9299\n",
      "Epoch 50/50\n",
      "42000/42000 [==============================] - 8s 198us/step - loss: 0.0833 - acc: 0.9692 - val_loss: 0.2377 - val_acc: 0.9316\n"
     ]
    }
   ],
   "source": [
    "def train():\n",
    "    model = create_model()\n",
    "    model.compile(optimizer=Adam(lr=0.001, beta_1=0.9, beta_2=0.999), loss='categorical_crossentropy', metrics=['accuracy'])\n",
    "    model.fit(X_train, Y_train, batch_size=64, epochs=50, verbose=1,shuffle=False, validation_split=0.3)\n",
    "    model.save_weights('./model/fashion_mnist.h5')\n",
    "\n",
    "train()"
   ]
  },
  {
   "cell_type": "code",
   "execution_count": 119,
   "metadata": {},
   "outputs": [
    {
     "name": "stdout",
     "output_type": "stream",
     "text": [
      "10000/10000 [==============================] - 4s 390us/step\n",
      "accuracy:  92.66\n",
      "loss:  0.270661384091\n"
     ]
    }
   ],
   "source": [
    "def evaluation():\n",
    "    model = create_model()\n",
    "    model.load_weights('./model/fashion_mnist.h5')\n",
    "    model.compile(optimizer='adam', loss='categorical_crossentropy', metrics=['accuracy'])\n",
    "    score = model.evaluate(X_test, Y_test, verbose=1)\n",
    "    print('accuracy: ',score[1]*100)\n",
    "    print('loss: ',score[0])\n",
    "    \n",
    "evaluation()"
   ]
  },
  {
   "cell_type": "code",
   "execution_count": 120,
   "metadata": {},
   "outputs": [],
   "source": [
    "def label(index):\n",
    "    if index == 0:\n",
    "        print('T-shirt/ Top')\n",
    "    if index == 1:\n",
    "        print('Trousers')\n",
    "    if index == 2:\n",
    "        print('Pullover')\n",
    "    if index == 3:\n",
    "        print('Dress')\n",
    "    if index == 4:\n",
    "        print('Coat')\n",
    "    if index == 5:\n",
    "        print('Sandel')\n",
    "    if index == 6:\n",
    "        print('Shirt')\n",
    "    if index == 7:\n",
    "        print('Sneakers')\n",
    "    if index == 8:\n",
    "        print('Bag')\n",
    "    if index == 9:\n",
    "        print('Ankel Boots')\n",
    "    "
   ]
  },
  {
   "cell_type": "code",
   "execution_count": 135,
   "metadata": {
    "scrolled": false
   },
   "outputs": [
    {
     "name": "stdout",
     "output_type": "stream",
     "text": [
      "(1, 28, 28, 1)\n",
      "Shirt\n",
      "predicted label:  6\n"
     ]
    },
    {
     "data": {
      "image/png": "[encoded data removed]",
      "text/plain": [
       "<matplotlib.figure.Figure at 0x7f53c16f2710>"
      ]
     },
     "metadata": {},
     "output_type": "display_data"
    }
   ],
   "source": [
    "model = create_model()\n",
    "model.load_weights('./model/fashion_mnist.h5')\n",
    "\n",
    "# print('orignal label: ',np.argmax(Y_test[960]))\n",
    "# img = X_test[960]\n",
    "\n",
    "imgo = cv2.imread('./my_data/12.jpg')\n",
    "imgo = cv2.cvtColor(imgo, cv2.COLOR_BGR2GRAY)\n",
    "print(img.shape)\n",
    "img = cv2.resize(imgo,(28,28), interpolation = cv2.INTER_AREA)\n",
    "\n",
    "\n",
    "\n",
    "# img = img.reshape((28,28))\n",
    "\n",
    "fig, (ax1,ax2) = plt.subplots(1,2)\n",
    "ax2.imshow(img, cmap='gray')\n",
    "ax1.imshow(imgo, cmap='gray')\n",
    "\n",
    "img = img.reshape(-1,28,28,1)\n",
    "prediction = model.predict(img)\n",
    "\n",
    "\n",
    "\n",
    "label(np.argmax(prediction))\n",
    "print('predicted label: ', np.argmax(prediction))\n",
    "\n",
    "# print(prediction)\n"
   ]
  },
  {
   "cell_type": "code",
   "execution_count": null,
   "metadata": {},
   "outputs": [],
   "source": []
  }
 ],
 "metadata": {
  "kernelspec": {
   "display_name": "Python 3",
   "language": "python",
   "name": "python3"
  },
  "language_info": {
   "codemirror_mode": {
    "name": "ipython",
    "version": 3
   },
   "file_extension": ".py",
   "mimetype": "text/x-python",
   "name": "python",
   "nbconvert_exporter": "python",
   "pygments_lexer": "ipython3",
   "version": "3.5.4"
  }
 },
 "nbformat": 4,
 "nbformat_minor": 2
}
